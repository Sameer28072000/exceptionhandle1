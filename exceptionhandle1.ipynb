{
 "cells": [
  {
   "cell_type": "markdown",
   "id": "6996ed99-8cf3-4df5-8b9d-6908389cb614",
   "metadata": {},
   "source": [
    "Q1.What is an Excwption in python?Write the difference between Exceptions & santax errors."
   ]
  },
  {
   "cell_type": "markdown",
   "id": "678df05c-1235-417a-8b9c-d299ea3b58fe",
   "metadata": {},
   "source": [
    "Ans:-Exception is an error which occrs during execution of program or exception run time error.\n",
    "      To avoid abnormal termination of program,we use error handles or exception handlers.\n",
    "      Syntax error:-\n",
    "        i.Syntax errors occur during the compilation stage of the program.\n",
    "        \n",
    "Exception error:-\n",
    "  i.Exceptions occur during the execution of a program when an error or exceptional condition is encountered."
   ]
  },
  {
   "cell_type": "markdown",
   "id": "bb4aa929-be47-41fd-b319-9657df47cfd2",
   "metadata": {},
   "source": [
    "Q2.what happened when an exception  is not handled?Explain with an example"
   ]
  },
  {
   "cell_type": "code",
   "execution_count": null,
   "id": "8c55a7c5-9a12-44a8-acb8-b98d50339a30",
   "metadata": {},
   "outputs": [],
   "source": [
    "Ans:-When an exception is not handled in Python, it leads to program termination and an error message is displayed. \n",
    "      ex:-  i.Program termination\n",
    "             ii.Error message"
   ]
  },
  {
   "cell_type": "markdown",
   "id": "b3c6b536-9ff7-4542-acd6-c0a8ed79ac47",
   "metadata": {},
   "source": [
    "Q3.which python statement is used to catch & handle exception?Explain with an example?"
   ]
  },
  {
   "cell_type": "code",
   "execution_count": null,
   "id": "2d6328a4-55a0-4f01-888b-3ce9465866bf",
   "metadata": {},
   "outputs": [],
   "source": [
    "Ans:-The Python statement used to catch and handle exceptions is the try-except block.\n",
    "      The code that may raise an exception is placed inside the try block."
   ]
  },
  {
   "cell_type": "code",
   "execution_count": 2,
   "id": "cdfe27c3-3448-44a1-a4bf-eb4d71225cc2",
   "metadata": {},
   "outputs": [
    {
     "name": "stdin",
     "output_type": "stream",
     "text": [
      "Enter a number:  15\n",
      "Enter another number:  17\n"
     ]
    },
    {
     "name": "stdout",
     "output_type": "stream",
     "text": [
      "The result is: 0.8823529411764706\n"
     ]
    }
   ],
   "source": [
    "try:\n",
    "    num1 = int(input(\"Enter a number: \"))\n",
    "    num2 = int(input(\"Enter another number: \"))\n",
    "    result = num1 / num2\n",
    "    print(\"The result is:\", result)\n",
    "except ZeroDivisionError:\n",
    "    print(\"Error: Division by zero is not allowed.\")\n",
    "except ValueError:\n",
    "    print(\"Error: Invalid input. Please enter integers.\")"
   ]
  },
  {
   "cell_type": "markdown",
   "id": "0d723409-24aa-470e-a1ed-2740c67f5d8c",
   "metadata": {},
   "source": [
    "Q4.Explain with an example:\n",
    "    i.try & else\n",
    "    ii.finally \n",
    "    iii.raise"
   ]
  },
  {
   "cell_type": "code",
   "execution_count": null,
   "id": "0dd6b85b-4293-4705-985f-b5a51b6c2873",
   "metadata": {},
   "outputs": [],
   "source": [
    "Ans:-\n",
    "      i.try & else :-\n",
    "        The try and else blocks are used together to handle exceptions and \n",
    "          provide alternative code to execute when no exceptions occur within the try block."
   ]
  },
  {
   "cell_type": "code",
   "execution_count": null,
   "id": "8deb50e1-5833-4a8f-8f54-183f5db05a86",
   "metadata": {},
   "outputs": [],
   "source": [
    "try:\n",
    "    # Code that may raise an exception\n",
    "    result = 10 / 2\n",
    "except ZeroDivisionError:\n",
    "    print(\"Error: Division by zero.\")\n",
    "else:\n",
    "    print(\"The result is:\", result)"
   ]
  },
  {
   "cell_type": "code",
   "execution_count": null,
   "id": "133272da-306b-4ea5-a34a-617a8cbeb931",
   "metadata": {},
   "outputs": [],
   "source": [
    "ii.finally :-\n",
    "        The finally block is used to specify code that must be executed regardless of whether an exception occurred or not."
   ]
  },
  {
   "cell_type": "code",
   "execution_count": null,
   "id": "54054a05-f85c-4f5b-802a-db10e3af2e44",
   "metadata": {},
   "outputs": [],
   "source": [
    "try:\n",
    "    # Code that may raise an exception\n",
    "    file = open(\"data.txt\", \"r\")\n",
    "    data = file.read()\n",
    "    print(data)\n",
    "except FileNotFoundError:\n",
    "    print(\"Error: File not found.\")\n",
    "finally:\n",
    "    file.close()\n",
    "    print(\"File closed.\")\n"
   ]
  },
  {
   "cell_type": "code",
   "execution_count": null,
   "id": "13a6586b-15c0-400e-bcfd-f62b5b7a2bd6",
   "metadata": {},
   "outputs": [],
   "source": [
    "iii.raise:-The raise statement is used to manually raise an exception in Python."
   ]
  },
  {
   "cell_type": "code",
   "execution_count": null,
   "id": "2dddd574-25bd-41da-a003-23f515de0fd8",
   "metadata": {},
   "outputs": [],
   "source": [
    "def divide(a, b):\n",
    "    if b == 0:\n",
    "        raise ZeroDivisionError(\"Error: Division by zero.\")\n",
    "    else:\n",
    "        return a / b\n",
    "\n",
    "try:\n",
    "    result = divide(10, 0)\n",
    "except ZeroDivisionError as e:\n",
    "    print(e)"
   ]
  },
  {
   "cell_type": "markdown",
   "id": "4a7ea903-f279-46dc-9850-f622fbf7b4e5",
   "metadata": {},
   "source": [
    "Q5.what are custom eception in python?why do we need custom exception?Explain with an example?"
   ]
  },
  {
   "cell_type": "code",
   "execution_count": null,
   "id": "f5b85669-8046-44fb-90fa-322a0fdfdc05",
   "metadata": {},
   "outputs": [],
   "source": [
    "Ans:-Custom exceptions in Python are user-defined exceptions that allow you to create your own \n",
    "       exception types to handle specific error conditions in your code.\n",
    "    \n",
    "     We need custom exceptions when we want to handle specific errors or \n",
    "        exceptional conditions that are unique to our application or domain."
   ]
  },
  {
   "cell_type": "code",
   "execution_count": null,
   "id": "43575623-f430-4838-bdd8-931abd3788ad",
   "metadata": {},
   "outputs": [],
   "source": [
    "class InvalidInputError(Exception):\n",
    "    \"\"\"Exception raised for invalid input.\"\"\"\n",
    "\n",
    "    def __init__(self, input_value):\n",
    "        self.input_value = input_value\n",
    "        self.message = f\"Invalid input: {input_value}\"\n",
    "        super().__init__(self.message)"
   ]
  },
  {
   "cell_type": "markdown",
   "id": "f16a00c9-9763-4109-bcf5-e655ec9daf6a",
   "metadata": {},
   "source": [
    "Q6.Create a custom exception class?Use this class to handle an exception."
   ]
  },
  {
   "cell_type": "code",
   "execution_count": null,
   "id": "a8f9b92d-359d-4662-bdb0-53cd92c23f70",
   "metadata": {},
   "outputs": [],
   "source": [
    "Ans:-"
   ]
  }
 ],
 "metadata": {
  "kernelspec": {
   "display_name": "Python 3 (ipykernel)",
   "language": "python",
   "name": "python3"
  },
  "language_info": {
   "codemirror_mode": {
    "name": "ipython",
    "version": 3
   },
   "file_extension": ".py",
   "mimetype": "text/x-python",
   "name": "python",
   "nbconvert_exporter": "python",
   "pygments_lexer": "ipython3",
   "version": "3.10.8"
  }
 },
 "nbformat": 4,
 "nbformat_minor": 5
}
